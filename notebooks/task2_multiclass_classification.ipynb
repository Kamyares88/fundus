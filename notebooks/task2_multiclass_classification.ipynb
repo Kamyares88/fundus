{
 "cells": [
  {
   "cell_type": "markdown",
   "id": "26eb9ea1",
   "metadata": {},
   "source": [
    "# training the multiclass classification task using both VGG16 and Resnet50 \n",
    "\n",
    "* The python file model.py contains the code for the custom written VGG16 network\n",
    "* this notebook also performs training on a pretrained ResNet50 netwoek which is much more sophisticated network compared to VGG16.  * results of both models will be evalusted in the evaluation step\n",
    "* in addition to the model, a train function is also written (in model.py) and imported here which is basically wrapper that performs the forward and backward loop of the train and forward loop of the eval model simultaneously.\n",
    "* the function \"get_loader\" is a custom wrapper that makes a pytorch dataset and applies a dataloader to it."
   ]
  },
  {
   "cell_type": "code",
   "execution_count": 6,
   "id": "8435dd9c",
   "metadata": {},
   "outputs": [],
   "source": [
    "import os\n",
    "os.chdir('/Users/simpleai/Desktop/az_task/scripts/')\n",
    "import pandas as pd\n",
    "from torchvision import transforms\n",
    "import torch\n",
    "import torch.nn as nn\n",
    "from torchvision.models import resnet50, ResNet50_Weights\n",
    "import warnings\n",
    "warnings.filterwarnings('ignore')\n",
    "\n",
    "from dataset import get_loader # custom written for this task\n",
    "from model import MyVGG16      # custom written for this task\n",
    "from train import train        # custom written for this task"
   ]
  },
  {
   "cell_type": "code",
   "execution_count": 15,
   "id": "8d3d1d3e",
   "metadata": {},
   "outputs": [],
   "source": [
    "# hyperparameters\n",
    "NUM_CLASSES = 7\n",
    "NUM_EPOCHS = 40\n",
    "BATCH_SIZE = 4\n",
    "LEARNING_RATE = 0.001\n",
    "WEIGHT_DECAY = 1E-4\n",
    "CLASS_WEIGHT = torch.tensor([0.679, 0.764, 0.954, 0.84, 0.181, 0.971, 0.872])\n",
    "device = \"mps\" if torch.backends.mps.is_available() else \"cpu\" # I'm using an M1 chip which can perform vectorized calculations over Mac GPU using ARM technology"
   ]
  },
  {
   "cell_type": "code",
   "execution_count": 10,
   "id": "2f412956",
   "metadata": {},
   "outputs": [],
   "source": [
    "# defining the transforms to be applied to the images\n",
    "# transform will include on-the-fly augmentations later\n",
    "transform = transforms.Compose([\n",
    "   transforms.ToTensor(), \n",
    "   transforms.Resize((256,256)), # resizing to 256 by 256 due to having limited amount of ram available on my Mac\n",
    "   transforms.Normalize(\n",
    "       mean=[0.4914, 0.4822, 0.4465], \n",
    "       std=[0.2023, 0.1994, 0.2010]\n",
    "       )\n",
    "   ])\n",
    "\n",
    "# opening the label_df where both labels and path to images are located in\n",
    "label_df_path = '/Users/simpleai/Desktop/az_task/results/task1/multiclass_classification_metadata.csv'\n",
    "label_df = pd.read_csv(label_df_path, index_col=0)\n",
    "\n",
    "# dividing the label_df into train, val, test dataset\n",
    "train_df = label_df.loc[label_df['type']=='Train', :] #1519 Disease; 401 Healthy 0.8:0.2 imbalance\n",
    "#train_df = train_df.sample(frac=0.25) # selecting a random quarter of the data for the speed\n",
    "train_df = train_df.reset_index(drop=True)\n",
    "\n",
    "val_df = label_df.loc[label_df['type']=='Val', :]\n",
    "#val_df = val_df.sample(frac=0.25) # selecting a random quarter of the data for the speed\n",
    "val_df = val_df.reset_index(drop=True)\n",
    "\n",
    "test_df = label_df.loc[label_df['type']=='Test', :]\n",
    "test_df = test_df.reset_index(drop=True)\n",
    "\n",
    "# defining the dataloader dictionary\n",
    "dataloader_dict = {\n",
    "    'train': get_loader(\n",
    "        data_df = train_df, \n",
    "        label_cols = ['Healthy', 'DR', 'ARMD', 'MH', 'DN', 'TSLN', 'ODC'],\n",
    "        batch_size = BATCH_SIZE, \n",
    "        transform = transform, \n",
    "        shuffle = True),\n",
    "    'val': get_loader(\n",
    "        data_df = val_df, \n",
    "        label_cols = ['Healthy', 'DR', 'ARMD', 'MH', 'DN', 'TSLN', 'ODC'],\n",
    "        batch_size = BATCH_SIZE, \n",
    "        transform = transform, \n",
    "        shuffle = False),\n",
    "    }"
   ]
  },
  {
   "cell_type": "markdown",
   "id": "8b055df9",
   "metadata": {},
   "source": [
    "### Traing VGG16 model"
   ]
  },
  {
   "cell_type": "code",
   "execution_count": 11,
   "id": "8dd8a51a",
   "metadata": {
    "scrolled": false
   },
   "outputs": [
    {
     "name": "stdout",
     "output_type": "stream",
     "text": [
      "Epoch 1/20\n",
      "__________\n"
     ]
    },
    {
     "name": "stderr",
     "output_type": "stream",
     "text": [
      "100%|█████████████████████████████████████████| 315/315 [04:05<00:00,  1.28it/s]\n"
     ]
    },
    {
     "name": "stdout",
     "output_type": "stream",
     "text": [
      "epoch 1 train >>> loss: 0.471, accuracy: 0.321\n"
     ]
    },
    {
     "name": "stderr",
     "output_type": "stream",
     "text": [
      "100%|█████████████████████████████████████████| 101/101 [00:38<00:00,  2.60it/s]\n"
     ]
    },
    {
     "name": "stdout",
     "output_type": "stream",
     "text": [
      "epoch 1 val >>> loss: 0.463, accuracy: 0.351\n",
      "saving the best model in /Users/simpleai/Desktop/az_task/results/task2/vgg16_multiclass_classifier.pth\n",
      "Epoch 2/20\n",
      "__________\n"
     ]
    },
    {
     "name": "stderr",
     "output_type": "stream",
     "text": [
      "100%|█████████████████████████████████████████| 315/315 [03:51<00:00,  1.36it/s]\n"
     ]
    },
    {
     "name": "stdout",
     "output_type": "stream",
     "text": [
      "epoch 2 train >>> loss: 0.422, accuracy: 0.351\n"
     ]
    },
    {
     "name": "stderr",
     "output_type": "stream",
     "text": [
      "100%|█████████████████████████████████████████| 101/101 [00:38<00:00,  2.61it/s]\n"
     ]
    },
    {
     "name": "stdout",
     "output_type": "stream",
     "text": [
      "epoch 2 val >>> loss: 0.436, accuracy: 0.374\n",
      "saving the best model in /Users/simpleai/Desktop/az_task/results/task2/vgg16_multiclass_classifier.pth\n",
      "Epoch 3/20\n",
      "__________\n"
     ]
    },
    {
     "name": "stderr",
     "output_type": "stream",
     "text": [
      "100%|█████████████████████████████████████████| 315/315 [03:54<00:00,  1.35it/s]\n"
     ]
    },
    {
     "name": "stdout",
     "output_type": "stream",
     "text": [
      "epoch 3 train >>> loss: 0.405, accuracy: 0.417\n"
     ]
    },
    {
     "name": "stderr",
     "output_type": "stream",
     "text": [
      "100%|█████████████████████████████████████████| 101/101 [00:38<00:00,  2.62it/s]\n"
     ]
    },
    {
     "name": "stdout",
     "output_type": "stream",
     "text": [
      "epoch 3 val >>> loss: 0.458, accuracy: 0.376\n",
      "Epoch 4/20\n",
      "__________\n"
     ]
    },
    {
     "name": "stderr",
     "output_type": "stream",
     "text": [
      "100%|█████████████████████████████████████████| 315/315 [03:51<00:00,  1.36it/s]\n"
     ]
    },
    {
     "name": "stdout",
     "output_type": "stream",
     "text": [
      "epoch 4 train >>> loss: 0.397, accuracy: 0.419\n"
     ]
    },
    {
     "name": "stderr",
     "output_type": "stream",
     "text": [
      "100%|█████████████████████████████████████████| 101/101 [00:38<00:00,  2.60it/s]\n"
     ]
    },
    {
     "name": "stdout",
     "output_type": "stream",
     "text": [
      "epoch 4 val >>> loss: 0.416, accuracy: 0.441\n",
      "saving the best model in /Users/simpleai/Desktop/az_task/results/task2/vgg16_multiclass_classifier.pth\n",
      "Epoch 5/20\n",
      "__________\n"
     ]
    },
    {
     "name": "stderr",
     "output_type": "stream",
     "text": [
      "100%|█████████████████████████████████████████| 315/315 [03:54<00:00,  1.34it/s]\n"
     ]
    },
    {
     "name": "stdout",
     "output_type": "stream",
     "text": [
      "epoch 5 train >>> loss: 0.393, accuracy: 0.431\n"
     ]
    },
    {
     "name": "stderr",
     "output_type": "stream",
     "text": [
      "100%|█████████████████████████████████████████| 101/101 [00:38<00:00,  2.63it/s]\n"
     ]
    },
    {
     "name": "stdout",
     "output_type": "stream",
     "text": [
      "epoch 5 val >>> loss: 0.425, accuracy: 0.403\n",
      "Epoch 6/20\n",
      "__________\n"
     ]
    },
    {
     "name": "stderr",
     "output_type": "stream",
     "text": [
      "100%|█████████████████████████████████████████| 315/315 [03:51<00:00,  1.36it/s]\n"
     ]
    },
    {
     "name": "stdout",
     "output_type": "stream",
     "text": [
      "epoch 6 train >>> loss: 0.375, accuracy: 0.454\n"
     ]
    },
    {
     "name": "stderr",
     "output_type": "stream",
     "text": [
      "100%|█████████████████████████████████████████| 101/101 [00:38<00:00,  2.62it/s]\n"
     ]
    },
    {
     "name": "stdout",
     "output_type": "stream",
     "text": [
      "epoch 6 val >>> loss: 0.404, accuracy: 0.433\n",
      "saving the best model in /Users/simpleai/Desktop/az_task/results/task2/vgg16_multiclass_classifier.pth\n",
      "Epoch 7/20\n",
      "__________\n"
     ]
    },
    {
     "name": "stderr",
     "output_type": "stream",
     "text": [
      "100%|█████████████████████████████████████████| 315/315 [03:53<00:00,  1.35it/s]\n"
     ]
    },
    {
     "name": "stdout",
     "output_type": "stream",
     "text": [
      "epoch 7 train >>> loss: 0.365, accuracy: 0.479\n"
     ]
    },
    {
     "name": "stderr",
     "output_type": "stream",
     "text": [
      "100%|█████████████████████████████████████████| 101/101 [00:38<00:00,  2.59it/s]\n"
     ]
    },
    {
     "name": "stdout",
     "output_type": "stream",
     "text": [
      "epoch 7 val >>> loss: 0.371, accuracy: 0.475\n",
      "saving the best model in /Users/simpleai/Desktop/az_task/results/task2/vgg16_multiclass_classifier.pth\n",
      "Epoch 8/20\n",
      "__________\n"
     ]
    },
    {
     "name": "stderr",
     "output_type": "stream",
     "text": [
      "100%|█████████████████████████████████████████| 315/315 [03:34<00:00,  1.47it/s]\n"
     ]
    },
    {
     "name": "stdout",
     "output_type": "stream",
     "text": [
      "epoch 8 train >>> loss: 0.352, accuracy: 0.471\n"
     ]
    },
    {
     "name": "stderr",
     "output_type": "stream",
     "text": [
      "100%|█████████████████████████████████████████| 101/101 [00:37<00:00,  2.73it/s]\n"
     ]
    },
    {
     "name": "stdout",
     "output_type": "stream",
     "text": [
      "epoch 8 val >>> loss: 0.429, accuracy: 0.433\n",
      "Epoch 9/20\n",
      "__________\n"
     ]
    },
    {
     "name": "stderr",
     "output_type": "stream",
     "text": [
      "100%|█████████████████████████████████████████| 315/315 [03:21<00:00,  1.56it/s]\n"
     ]
    },
    {
     "name": "stdout",
     "output_type": "stream",
     "text": [
      "epoch 9 train >>> loss: 0.347, accuracy: 0.506\n"
     ]
    },
    {
     "name": "stderr",
     "output_type": "stream",
     "text": [
      "100%|█████████████████████████████████████████| 101/101 [00:37<00:00,  2.72it/s]\n"
     ]
    },
    {
     "name": "stdout",
     "output_type": "stream",
     "text": [
      "epoch 9 val >>> loss: 0.361, accuracy: 0.512\n",
      "saving the best model in /Users/simpleai/Desktop/az_task/results/task2/vgg16_multiclass_classifier.pth\n",
      "Epoch 10/20\n",
      "__________\n"
     ]
    },
    {
     "name": "stderr",
     "output_type": "stream",
     "text": [
      "100%|█████████████████████████████████████████| 315/315 [03:23<00:00,  1.55it/s]\n"
     ]
    },
    {
     "name": "stdout",
     "output_type": "stream",
     "text": [
      "epoch 10 train >>> loss: 0.334, accuracy: 0.522\n"
     ]
    },
    {
     "name": "stderr",
     "output_type": "stream",
     "text": [
      "100%|█████████████████████████████████████████| 101/101 [00:38<00:00,  2.66it/s]\n"
     ]
    },
    {
     "name": "stdout",
     "output_type": "stream",
     "text": [
      "epoch 10 val >>> loss: 0.383, accuracy: 0.438\n",
      "Epoch 11/20\n",
      "__________\n"
     ]
    },
    {
     "name": "stderr",
     "output_type": "stream",
     "text": [
      "100%|█████████████████████████████████████████| 315/315 [04:07<00:00,  1.27it/s]\n"
     ]
    },
    {
     "name": "stdout",
     "output_type": "stream",
     "text": [
      "epoch 11 train >>> loss: 0.322, accuracy: 0.533\n"
     ]
    },
    {
     "name": "stderr",
     "output_type": "stream",
     "text": [
      "100%|█████████████████████████████████████████| 101/101 [00:40<00:00,  2.51it/s]\n"
     ]
    },
    {
     "name": "stdout",
     "output_type": "stream",
     "text": [
      "epoch 11 val >>> loss: 0.337, accuracy: 0.537\n",
      "saving the best model in /Users/simpleai/Desktop/az_task/results/task2/vgg16_multiclass_classifier.pth\n",
      "Epoch 12/20\n",
      "__________\n"
     ]
    },
    {
     "name": "stderr",
     "output_type": "stream",
     "text": [
      "100%|█████████████████████████████████████████| 315/315 [04:07<00:00,  1.27it/s]\n"
     ]
    },
    {
     "name": "stdout",
     "output_type": "stream",
     "text": [
      "epoch 12 train >>> loss: 0.313, accuracy: 0.543\n"
     ]
    },
    {
     "name": "stderr",
     "output_type": "stream",
     "text": [
      "100%|█████████████████████████████████████████| 101/101 [00:40<00:00,  2.48it/s]\n"
     ]
    },
    {
     "name": "stdout",
     "output_type": "stream",
     "text": [
      "epoch 12 val >>> loss: 0.375, accuracy: 0.500\n",
      "Epoch 13/20\n",
      "__________\n"
     ]
    },
    {
     "name": "stderr",
     "output_type": "stream",
     "text": [
      "100%|█████████████████████████████████████████| 315/315 [04:11<00:00,  1.25it/s]\n"
     ]
    },
    {
     "name": "stdout",
     "output_type": "stream",
     "text": [
      "epoch 13 train >>> loss: 0.307, accuracy: 0.564\n"
     ]
    },
    {
     "name": "stderr",
     "output_type": "stream",
     "text": [
      "100%|█████████████████████████████████████████| 101/101 [00:39<00:00,  2.53it/s]\n"
     ]
    },
    {
     "name": "stdout",
     "output_type": "stream",
     "text": [
      "epoch 13 val >>> loss: 0.339, accuracy: 0.520\n",
      "Epoch 14/20\n",
      "__________\n"
     ]
    },
    {
     "name": "stderr",
     "output_type": "stream",
     "text": [
      "100%|█████████████████████████████████████████| 315/315 [04:00<00:00,  1.31it/s]\n"
     ]
    },
    {
     "name": "stdout",
     "output_type": "stream",
     "text": [
      "epoch 14 train >>> loss: 0.291, accuracy: 0.579\n"
     ]
    },
    {
     "name": "stderr",
     "output_type": "stream",
     "text": [
      "100%|█████████████████████████████████████████| 101/101 [00:40<00:00,  2.51it/s]\n"
     ]
    },
    {
     "name": "stdout",
     "output_type": "stream",
     "text": [
      "epoch 14 val >>> loss: 0.348, accuracy: 0.478\n",
      "Epoch 15/20\n",
      "__________\n"
     ]
    },
    {
     "name": "stderr",
     "output_type": "stream",
     "text": [
      "100%|█████████████████████████████████████████| 315/315 [04:00<00:00,  1.31it/s]\n"
     ]
    },
    {
     "name": "stdout",
     "output_type": "stream",
     "text": [
      "epoch 15 train >>> loss: 0.286, accuracy: 0.587\n"
     ]
    },
    {
     "name": "stderr",
     "output_type": "stream",
     "text": [
      "100%|█████████████████████████████████████████| 101/101 [00:40<00:00,  2.49it/s]\n"
     ]
    },
    {
     "name": "stdout",
     "output_type": "stream",
     "text": [
      "epoch 15 val >>> loss: 0.352, accuracy: 0.550\n",
      "Epoch 16/20\n",
      "__________\n"
     ]
    },
    {
     "name": "stderr",
     "output_type": "stream",
     "text": [
      "100%|█████████████████████████████████████████| 315/315 [04:08<00:00,  1.27it/s]\n"
     ]
    },
    {
     "name": "stdout",
     "output_type": "stream",
     "text": [
      "epoch 16 train >>> loss: 0.283, accuracy: 0.598\n"
     ]
    },
    {
     "name": "stderr",
     "output_type": "stream",
     "text": [
      "100%|█████████████████████████████████████████| 101/101 [00:39<00:00,  2.54it/s]\n"
     ]
    },
    {
     "name": "stdout",
     "output_type": "stream",
     "text": [
      "epoch 16 val >>> loss: 0.324, accuracy: 0.574\n",
      "saving the best model in /Users/simpleai/Desktop/az_task/results/task2/vgg16_multiclass_classifier.pth\n",
      "Epoch 17/20\n",
      "__________\n"
     ]
    },
    {
     "name": "stderr",
     "output_type": "stream",
     "text": [
      "100%|█████████████████████████████████████████| 315/315 [04:02<00:00,  1.30it/s]\n"
     ]
    },
    {
     "name": "stdout",
     "output_type": "stream",
     "text": [
      "epoch 17 train >>> loss: 0.275, accuracy: 0.581\n"
     ]
    },
    {
     "name": "stderr",
     "output_type": "stream",
     "text": [
      "100%|█████████████████████████████████████████| 101/101 [00:40<00:00,  2.52it/s]\n"
     ]
    },
    {
     "name": "stdout",
     "output_type": "stream",
     "text": [
      "epoch 17 val >>> loss: 0.310, accuracy: 0.547\n",
      "saving the best model in /Users/simpleai/Desktop/az_task/results/task2/vgg16_multiclass_classifier.pth\n",
      "Epoch 18/20\n",
      "__________\n"
     ]
    },
    {
     "name": "stderr",
     "output_type": "stream",
     "text": [
      "100%|█████████████████████████████████████████| 315/315 [04:00<00:00,  1.31it/s]\n"
     ]
    },
    {
     "name": "stdout",
     "output_type": "stream",
     "text": [
      "epoch 18 train >>> loss: 0.259, accuracy: 0.615\n"
     ]
    },
    {
     "name": "stderr",
     "output_type": "stream",
     "text": [
      "100%|█████████████████████████████████████████| 101/101 [00:40<00:00,  2.51it/s]\n"
     ]
    },
    {
     "name": "stdout",
     "output_type": "stream",
     "text": [
      "epoch 18 val >>> loss: 0.310, accuracy: 0.557\n",
      "Epoch 19/20\n",
      "__________\n"
     ]
    },
    {
     "name": "stderr",
     "output_type": "stream",
     "text": [
      "100%|█████████████████████████████████████████| 315/315 [03:58<00:00,  1.32it/s]\n"
     ]
    },
    {
     "name": "stdout",
     "output_type": "stream",
     "text": [
      "epoch 19 train >>> loss: 0.253, accuracy: 0.635\n"
     ]
    },
    {
     "name": "stderr",
     "output_type": "stream",
     "text": [
      "100%|█████████████████████████████████████████| 101/101 [00:39<00:00,  2.58it/s]\n"
     ]
    },
    {
     "name": "stdout",
     "output_type": "stream",
     "text": [
      "epoch 19 val >>> loss: 0.348, accuracy: 0.542\n",
      "Epoch 20/20\n",
      "__________\n"
     ]
    },
    {
     "name": "stderr",
     "output_type": "stream",
     "text": [
      "100%|█████████████████████████████████████████| 315/315 [03:49<00:00,  1.38it/s]\n"
     ]
    },
    {
     "name": "stdout",
     "output_type": "stream",
     "text": [
      "epoch 20 train >>> loss: 0.245, accuracy: 0.626\n"
     ]
    },
    {
     "name": "stderr",
     "output_type": "stream",
     "text": [
      "100%|█████████████████████████████████████████| 101/101 [00:38<00:00,  2.59it/s]\n"
     ]
    },
    {
     "name": "stdout",
     "output_type": "stream",
     "text": [
      "epoch 20 val >>> loss: 0.312, accuracy: 0.587\n"
     ]
    }
   ],
   "source": [
    "# defining the model\n",
    "model = MyVGG16(num_classes=NUM_CLASSES, input_height=256, input_width=256).to(device)\n",
    "\n",
    "\n",
    "# defining criterion, optimizer\n",
    "criterion = nn.CrossEntropyLoss(weight=CLASS_WEIGHT).to(device)\n",
    "optimizer = torch.optim.Adam(model.parameters(), lr=LEARNING_RATE, weight_decay=WEIGHT_DECAY)\n",
    "\n",
    "# training the model\n",
    "model, train_val_df = train(\n",
    "    model, \n",
    "    dataloader_dict, \n",
    "    criterion, \n",
    "    optimizer, \n",
    "    device, \n",
    "    checkpoint_path='/Users/simpleai/Desktop/az_task/results/task2/vgg16_multiclass_classifier.pth', \n",
    "    train_val_info_path='/Users/simpleai/Desktop/az_task/results/task2/vgg16_multiclass_classifier_info.csv',\n",
    "    num_epochs=NUM_EPOCHS,\n",
    "    vgg=True\n",
    "    )\n"
   ]
  },
  {
   "cell_type": "markdown",
   "id": "a336bb12",
   "metadata": {},
   "source": [
    "### Training pretrained ResNet50 model"
   ]
  },
  {
   "cell_type": "code",
   "execution_count": 16,
   "id": "a7cb2dd6",
   "metadata": {},
   "outputs": [
    {
     "name": "stdout",
     "output_type": "stream",
     "text": [
      "Epoch 1/40\n",
      "__________\n"
     ]
    },
    {
     "name": "stderr",
     "output_type": "stream",
     "text": [
      "100%|█████████████████████████████████████████| 315/315 [02:31<00:00,  2.08it/s]\n"
     ]
    },
    {
     "name": "stdout",
     "output_type": "stream",
     "text": [
      "epoch 1 train >>> loss: 0.429, accuracy: 0.366\n"
     ]
    },
    {
     "name": "stderr",
     "output_type": "stream",
     "text": [
      "100%|█████████████████████████████████████████| 101/101 [00:35<00:00,  2.82it/s]\n"
     ]
    },
    {
     "name": "stdout",
     "output_type": "stream",
     "text": [
      "epoch 1 val >>> loss: 0.421, accuracy: 0.416\n",
      "saving the best model in /Users/simpleai/Desktop/az_task/results/task2/resnet50_multiclass_classifier.pth\n",
      "Epoch 2/40\n",
      "__________\n"
     ]
    },
    {
     "name": "stderr",
     "output_type": "stream",
     "text": [
      "100%|█████████████████████████████████████████| 315/315 [02:35<00:00,  2.03it/s]\n"
     ]
    },
    {
     "name": "stdout",
     "output_type": "stream",
     "text": [
      "epoch 2 train >>> loss: 0.385, accuracy: 0.434\n"
     ]
    },
    {
     "name": "stderr",
     "output_type": "stream",
     "text": [
      "100%|█████████████████████████████████████████| 101/101 [00:35<00:00,  2.84it/s]\n"
     ]
    },
    {
     "name": "stdout",
     "output_type": "stream",
     "text": [
      "epoch 2 val >>> loss: 0.623, accuracy: 0.426\n",
      "Epoch 3/40\n",
      "__________\n"
     ]
    },
    {
     "name": "stderr",
     "output_type": "stream",
     "text": [
      "100%|█████████████████████████████████████████| 315/315 [02:34<00:00,  2.04it/s]\n"
     ]
    },
    {
     "name": "stdout",
     "output_type": "stream",
     "text": [
      "epoch 3 train >>> loss: 0.381, accuracy: 0.455\n"
     ]
    },
    {
     "name": "stderr",
     "output_type": "stream",
     "text": [
      "100%|█████████████████████████████████████████| 101/101 [00:36<00:00,  2.78it/s]\n"
     ]
    },
    {
     "name": "stdout",
     "output_type": "stream",
     "text": [
      "epoch 3 val >>> loss: 0.359, accuracy: 0.520\n",
      "saving the best model in /Users/simpleai/Desktop/az_task/results/task2/resnet50_multiclass_classifier.pth\n",
      "Epoch 4/40\n",
      "__________\n"
     ]
    },
    {
     "name": "stderr",
     "output_type": "stream",
     "text": [
      "100%|█████████████████████████████████████████| 315/315 [02:36<00:00,  2.01it/s]\n"
     ]
    },
    {
     "name": "stdout",
     "output_type": "stream",
     "text": [
      "epoch 4 train >>> loss: 0.358, accuracy: 0.490\n"
     ]
    },
    {
     "name": "stderr",
     "output_type": "stream",
     "text": [
      "100%|█████████████████████████████████████████| 101/101 [00:36<00:00,  2.79it/s]\n"
     ]
    },
    {
     "name": "stdout",
     "output_type": "stream",
     "text": [
      "epoch 4 val >>> loss: 0.354, accuracy: 0.500\n",
      "saving the best model in /Users/simpleai/Desktop/az_task/results/task2/resnet50_multiclass_classifier.pth\n",
      "Epoch 5/40\n",
      "__________\n"
     ]
    },
    {
     "name": "stderr",
     "output_type": "stream",
     "text": [
      "100%|█████████████████████████████████████████| 315/315 [02:30<00:00,  2.10it/s]\n"
     ]
    },
    {
     "name": "stdout",
     "output_type": "stream",
     "text": [
      "epoch 5 train >>> loss: 0.357, accuracy: 0.463\n"
     ]
    },
    {
     "name": "stderr",
     "output_type": "stream",
     "text": [
      "100%|█████████████████████████████████████████| 101/101 [00:35<00:00,  2.84it/s]\n"
     ]
    },
    {
     "name": "stdout",
     "output_type": "stream",
     "text": [
      "epoch 5 val >>> loss: 0.333, accuracy: 0.542\n",
      "saving the best model in /Users/simpleai/Desktop/az_task/results/task2/resnet50_multiclass_classifier.pth\n",
      "Epoch 6/40\n",
      "__________\n"
     ]
    },
    {
     "name": "stderr",
     "output_type": "stream",
     "text": [
      "100%|█████████████████████████████████████████| 315/315 [02:33<00:00,  2.05it/s]\n"
     ]
    },
    {
     "name": "stdout",
     "output_type": "stream",
     "text": [
      "epoch 6 train >>> loss: 0.340, accuracy: 0.508\n"
     ]
    },
    {
     "name": "stderr",
     "output_type": "stream",
     "text": [
      "100%|█████████████████████████████████████████| 101/101 [00:35<00:00,  2.85it/s]\n"
     ]
    },
    {
     "name": "stdout",
     "output_type": "stream",
     "text": [
      "epoch 6 val >>> loss: 0.324, accuracy: 0.552\n",
      "saving the best model in /Users/simpleai/Desktop/az_task/results/task2/resnet50_multiclass_classifier.pth\n",
      "Epoch 7/40\n",
      "__________\n"
     ]
    },
    {
     "name": "stderr",
     "output_type": "stream",
     "text": [
      "100%|█████████████████████████████████████████| 315/315 [02:30<00:00,  2.10it/s]\n"
     ]
    },
    {
     "name": "stdout",
     "output_type": "stream",
     "text": [
      "epoch 7 train >>> loss: 0.330, accuracy: 0.517\n"
     ]
    },
    {
     "name": "stderr",
     "output_type": "stream",
     "text": [
      "100%|█████████████████████████████████████████| 101/101 [00:35<00:00,  2.83it/s]\n"
     ]
    },
    {
     "name": "stdout",
     "output_type": "stream",
     "text": [
      "epoch 7 val >>> loss: 0.310, accuracy: 0.569\n",
      "saving the best model in /Users/simpleai/Desktop/az_task/results/task2/resnet50_multiclass_classifier.pth\n",
      "Epoch 8/40\n",
      "__________\n"
     ]
    },
    {
     "name": "stderr",
     "output_type": "stream",
     "text": [
      "100%|█████████████████████████████████████████| 315/315 [02:32<00:00,  2.07it/s]\n"
     ]
    },
    {
     "name": "stdout",
     "output_type": "stream",
     "text": [
      "epoch 8 train >>> loss: 0.323, accuracy: 0.545\n"
     ]
    },
    {
     "name": "stderr",
     "output_type": "stream",
     "text": [
      "100%|█████████████████████████████████████████| 101/101 [00:35<00:00,  2.84it/s]\n"
     ]
    },
    {
     "name": "stdout",
     "output_type": "stream",
     "text": [
      "epoch 8 val >>> loss: 0.384, accuracy: 0.475\n",
      "Epoch 9/40\n",
      "__________\n"
     ]
    },
    {
     "name": "stderr",
     "output_type": "stream",
     "text": [
      "100%|█████████████████████████████████████████| 315/315 [02:37<00:00,  2.00it/s]\n"
     ]
    },
    {
     "name": "stdout",
     "output_type": "stream",
     "text": [
      "epoch 9 train >>> loss: 0.315, accuracy: 0.541\n"
     ]
    },
    {
     "name": "stderr",
     "output_type": "stream",
     "text": [
      "100%|█████████████████████████████████████████| 101/101 [00:36<00:00,  2.78it/s]\n"
     ]
    },
    {
     "name": "stdout",
     "output_type": "stream",
     "text": [
      "epoch 9 val >>> loss: 0.309, accuracy: 0.564\n",
      "saving the best model in /Users/simpleai/Desktop/az_task/results/task2/resnet50_multiclass_classifier.pth\n",
      "Epoch 10/40\n",
      "__________\n"
     ]
    },
    {
     "name": "stderr",
     "output_type": "stream",
     "text": [
      "100%|█████████████████████████████████████████| 315/315 [02:34<00:00,  2.04it/s]\n"
     ]
    },
    {
     "name": "stdout",
     "output_type": "stream",
     "text": [
      "epoch 10 train >>> loss: 0.316, accuracy: 0.546\n"
     ]
    },
    {
     "name": "stderr",
     "output_type": "stream",
     "text": [
      "100%|█████████████████████████████████████████| 101/101 [00:35<00:00,  2.85it/s]\n"
     ]
    },
    {
     "name": "stdout",
     "output_type": "stream",
     "text": [
      "epoch 10 val >>> loss: 0.337, accuracy: 0.473\n",
      "Epoch 11/40\n",
      "__________\n"
     ]
    },
    {
     "name": "stderr",
     "output_type": "stream",
     "text": [
      "100%|█████████████████████████████████████████| 315/315 [02:30<00:00,  2.09it/s]\n"
     ]
    },
    {
     "name": "stdout",
     "output_type": "stream",
     "text": [
      "epoch 11 train >>> loss: 0.306, accuracy: 0.545\n"
     ]
    },
    {
     "name": "stderr",
     "output_type": "stream",
     "text": [
      "100%|█████████████████████████████████████████| 101/101 [00:35<00:00,  2.86it/s]\n"
     ]
    },
    {
     "name": "stdout",
     "output_type": "stream",
     "text": [
      "epoch 11 val >>> loss: 0.336, accuracy: 0.552\n",
      "Epoch 12/40\n",
      "__________\n"
     ]
    },
    {
     "name": "stderr",
     "output_type": "stream",
     "text": [
      "100%|█████████████████████████████████████████| 315/315 [02:36<00:00,  2.01it/s]\n"
     ]
    },
    {
     "name": "stdout",
     "output_type": "stream",
     "text": [
      "epoch 12 train >>> loss: 0.301, accuracy: 0.569\n"
     ]
    },
    {
     "name": "stderr",
     "output_type": "stream",
     "text": [
      "100%|█████████████████████████████████████████| 101/101 [00:35<00:00,  2.85it/s]\n"
     ]
    },
    {
     "name": "stdout",
     "output_type": "stream",
     "text": [
      "epoch 12 val >>> loss: 0.326, accuracy: 0.554\n",
      "Epoch 13/40\n",
      "__________\n"
     ]
    },
    {
     "name": "stderr",
     "output_type": "stream",
     "text": [
      "100%|█████████████████████████████████████████| 315/315 [02:30<00:00,  2.09it/s]\n"
     ]
    },
    {
     "name": "stdout",
     "output_type": "stream",
     "text": [
      "epoch 13 train >>> loss: 0.290, accuracy: 0.590\n"
     ]
    },
    {
     "name": "stderr",
     "output_type": "stream",
     "text": [
      "100%|█████████████████████████████████████████| 101/101 [00:35<00:00,  2.84it/s]\n"
     ]
    },
    {
     "name": "stdout",
     "output_type": "stream",
     "text": [
      "epoch 13 val >>> loss: 0.319, accuracy: 0.574\n",
      "Epoch 14/40\n",
      "__________\n"
     ]
    },
    {
     "name": "stderr",
     "output_type": "stream",
     "text": [
      "100%|█████████████████████████████████████████| 315/315 [02:31<00:00,  2.08it/s]\n"
     ]
    },
    {
     "name": "stdout",
     "output_type": "stream",
     "text": [
      "epoch 14 train >>> loss: 0.293, accuracy: 0.572\n"
     ]
    },
    {
     "name": "stderr",
     "output_type": "stream",
     "text": [
      "100%|█████████████████████████████████████████| 101/101 [00:35<00:00,  2.87it/s]\n"
     ]
    },
    {
     "name": "stdout",
     "output_type": "stream",
     "text": [
      "epoch 14 val >>> loss: 0.297, accuracy: 0.579\n",
      "saving the best model in /Users/simpleai/Desktop/az_task/results/task2/resnet50_multiclass_classifier.pth\n",
      "Epoch 15/40\n",
      "__________\n"
     ]
    },
    {
     "name": "stderr",
     "output_type": "stream",
     "text": [
      "100%|█████████████████████████████████████████| 315/315 [02:32<00:00,  2.06it/s]\n"
     ]
    },
    {
     "name": "stdout",
     "output_type": "stream",
     "text": [
      "epoch 15 train >>> loss: 0.289, accuracy: 0.591\n"
     ]
    },
    {
     "name": "stderr",
     "output_type": "stream",
     "text": [
      "100%|█████████████████████████████████████████| 101/101 [00:36<00:00,  2.77it/s]\n"
     ]
    },
    {
     "name": "stdout",
     "output_type": "stream",
     "text": [
      "epoch 15 val >>> loss: 0.305, accuracy: 0.619\n",
      "Epoch 16/40\n",
      "__________\n"
     ]
    },
    {
     "name": "stderr",
     "output_type": "stream",
     "text": [
      "100%|█████████████████████████████████████████| 315/315 [02:35<00:00,  2.02it/s]\n"
     ]
    },
    {
     "name": "stdout",
     "output_type": "stream",
     "text": [
      "epoch 16 train >>> loss: 0.287, accuracy: 0.589\n"
     ]
    },
    {
     "name": "stderr",
     "output_type": "stream",
     "text": [
      "100%|█████████████████████████████████████████| 101/101 [00:36<00:00,  2.77it/s]\n"
     ]
    },
    {
     "name": "stdout",
     "output_type": "stream",
     "text": [
      "epoch 16 val >>> loss: 0.278, accuracy: 0.646\n",
      "saving the best model in /Users/simpleai/Desktop/az_task/results/task2/resnet50_multiclass_classifier.pth\n",
      "Epoch 17/40\n",
      "__________\n"
     ]
    },
    {
     "name": "stderr",
     "output_type": "stream",
     "text": [
      "100%|█████████████████████████████████████████| 315/315 [02:31<00:00,  2.08it/s]\n"
     ]
    },
    {
     "name": "stdout",
     "output_type": "stream",
     "text": [
      "epoch 17 train >>> loss: 0.284, accuracy: 0.591\n"
     ]
    },
    {
     "name": "stderr",
     "output_type": "stream",
     "text": [
      "100%|█████████████████████████████████████████| 101/101 [00:35<00:00,  2.87it/s]\n"
     ]
    },
    {
     "name": "stdout",
     "output_type": "stream",
     "text": [
      "epoch 17 val >>> loss: 0.288, accuracy: 0.587\n",
      "Epoch 18/40\n",
      "__________\n"
     ]
    },
    {
     "name": "stderr",
     "output_type": "stream",
     "text": [
      "100%|█████████████████████████████████████████| 315/315 [02:33<00:00,  2.06it/s]\n"
     ]
    },
    {
     "name": "stdout",
     "output_type": "stream",
     "text": [
      "epoch 18 train >>> loss: 0.277, accuracy: 0.601\n"
     ]
    },
    {
     "name": "stderr",
     "output_type": "stream",
     "text": [
      "100%|█████████████████████████████████████████| 101/101 [00:35<00:00,  2.82it/s]\n"
     ]
    },
    {
     "name": "stdout",
     "output_type": "stream",
     "text": [
      "epoch 18 val >>> loss: 0.281, accuracy: 0.579\n",
      "Epoch 19/40\n",
      "__________\n"
     ]
    },
    {
     "name": "stderr",
     "output_type": "stream",
     "text": [
      "100%|█████████████████████████████████████████| 315/315 [02:32<00:00,  2.07it/s]\n"
     ]
    },
    {
     "name": "stdout",
     "output_type": "stream",
     "text": [
      "epoch 19 train >>> loss: 0.263, accuracy: 0.616\n"
     ]
    },
    {
     "name": "stderr",
     "output_type": "stream",
     "text": [
      "100%|█████████████████████████████████████████| 101/101 [00:36<00:00,  2.80it/s]\n"
     ]
    },
    {
     "name": "stdout",
     "output_type": "stream",
     "text": [
      "epoch 19 val >>> loss: 0.308, accuracy: 0.629\n",
      "Epoch 20/40\n",
      "__________\n"
     ]
    },
    {
     "name": "stderr",
     "output_type": "stream",
     "text": [
      "100%|█████████████████████████████████████████| 315/315 [02:32<00:00,  2.06it/s]\n"
     ]
    },
    {
     "name": "stdout",
     "output_type": "stream",
     "text": [
      "epoch 20 train >>> loss: 0.260, accuracy: 0.630\n"
     ]
    },
    {
     "name": "stderr",
     "output_type": "stream",
     "text": [
      "100%|█████████████████████████████████████████| 101/101 [00:35<00:00,  2.84it/s]\n"
     ]
    },
    {
     "name": "stdout",
     "output_type": "stream",
     "text": [
      "epoch 20 val >>> loss: 0.291, accuracy: 0.653\n",
      "Epoch 21/40\n",
      "__________\n"
     ]
    },
    {
     "name": "stderr",
     "output_type": "stream",
     "text": [
      "100%|█████████████████████████████████████████| 315/315 [02:33<00:00,  2.05it/s]\n"
     ]
    },
    {
     "name": "stdout",
     "output_type": "stream",
     "text": [
      "epoch 21 train >>> loss: 0.260, accuracy: 0.616\n"
     ]
    },
    {
     "name": "stderr",
     "output_type": "stream",
     "text": [
      "100%|█████████████████████████████████████████| 101/101 [00:35<00:00,  2.81it/s]\n"
     ]
    },
    {
     "name": "stdout",
     "output_type": "stream",
     "text": [
      "epoch 21 val >>> loss: 0.303, accuracy: 0.515\n",
      "Epoch 22/40\n",
      "__________\n"
     ]
    },
    {
     "name": "stderr",
     "output_type": "stream",
     "text": [
      "100%|█████████████████████████████████████████| 315/315 [02:32<00:00,  2.07it/s]\n"
     ]
    },
    {
     "name": "stdout",
     "output_type": "stream",
     "text": [
      "epoch 22 train >>> loss: 0.255, accuracy: 0.631\n"
     ]
    },
    {
     "name": "stderr",
     "output_type": "stream",
     "text": [
      "100%|█████████████████████████████████████████| 101/101 [00:40<00:00,  2.47it/s]\n"
     ]
    },
    {
     "name": "stdout",
     "output_type": "stream",
     "text": [
      "epoch 22 val >>> loss: 0.341, accuracy: 0.569\n",
      "Epoch 23/40\n",
      "__________\n"
     ]
    },
    {
     "name": "stderr",
     "output_type": "stream",
     "text": [
      "100%|█████████████████████████████████████████| 315/315 [02:54<00:00,  1.80it/s]\n"
     ]
    },
    {
     "name": "stdout",
     "output_type": "stream",
     "text": [
      "epoch 23 train >>> loss: 0.239, accuracy: 0.645\n"
     ]
    },
    {
     "name": "stderr",
     "output_type": "stream",
     "text": [
      "100%|█████████████████████████████████████████| 101/101 [00:40<00:00,  2.47it/s]\n"
     ]
    },
    {
     "name": "stdout",
     "output_type": "stream",
     "text": [
      "epoch 23 val >>> loss: 0.294, accuracy: 0.644\n",
      "Epoch 24/40\n",
      "__________\n"
     ]
    },
    {
     "name": "stderr",
     "output_type": "stream",
     "text": [
      "100%|█████████████████████████████████████████| 315/315 [02:53<00:00,  1.82it/s]\n"
     ]
    },
    {
     "name": "stdout",
     "output_type": "stream",
     "text": [
      "epoch 24 train >>> loss: 0.231, accuracy: 0.656\n"
     ]
    },
    {
     "name": "stderr",
     "output_type": "stream",
     "text": [
      "100%|█████████████████████████████████████████| 101/101 [00:41<00:00,  2.46it/s]\n"
     ]
    },
    {
     "name": "stdout",
     "output_type": "stream",
     "text": [
      "epoch 24 val >>> loss: 0.297, accuracy: 0.626\n",
      "Epoch 25/40\n",
      "__________\n"
     ]
    },
    {
     "name": "stderr",
     "output_type": "stream",
     "text": [
      "100%|█████████████████████████████████████████| 315/315 [02:51<00:00,  1.83it/s]\n"
     ]
    },
    {
     "name": "stdout",
     "output_type": "stream",
     "text": [
      "epoch 25 train >>> loss: 0.226, accuracy: 0.661\n"
     ]
    },
    {
     "name": "stderr",
     "output_type": "stream",
     "text": [
      "100%|█████████████████████████████████████████| 101/101 [00:41<00:00,  2.45it/s]\n"
     ]
    },
    {
     "name": "stdout",
     "output_type": "stream",
     "text": [
      "epoch 25 val >>> loss: 0.320, accuracy: 0.621\n",
      "Epoch 26/40\n",
      "__________\n"
     ]
    },
    {
     "name": "stderr",
     "output_type": "stream",
     "text": [
      "100%|█████████████████████████████████████████| 315/315 [02:51<00:00,  1.83it/s]\n"
     ]
    },
    {
     "name": "stdout",
     "output_type": "stream",
     "text": [
      "epoch 26 train >>> loss: 0.223, accuracy: 0.685\n"
     ]
    },
    {
     "name": "stderr",
     "output_type": "stream",
     "text": [
      "100%|█████████████████████████████████████████| 101/101 [00:41<00:00,  2.44it/s]\n"
     ]
    },
    {
     "name": "stdout",
     "output_type": "stream",
     "text": [
      "epoch 26 val >>> loss: 0.309, accuracy: 0.582\n",
      "Epoch 27/40\n",
      "__________\n"
     ]
    },
    {
     "name": "stderr",
     "output_type": "stream",
     "text": [
      "100%|█████████████████████████████████████████| 315/315 [02:55<00:00,  1.80it/s]\n"
     ]
    },
    {
     "name": "stdout",
     "output_type": "stream",
     "text": [
      "epoch 27 train >>> loss: 0.217, accuracy: 0.684\n"
     ]
    },
    {
     "name": "stderr",
     "output_type": "stream",
     "text": [
      "100%|█████████████████████████████████████████| 101/101 [00:41<00:00,  2.43it/s]\n"
     ]
    },
    {
     "name": "stdout",
     "output_type": "stream",
     "text": [
      "epoch 27 val >>> loss: 0.292, accuracy: 0.619\n",
      "Epoch 28/40\n",
      "__________\n"
     ]
    },
    {
     "name": "stderr",
     "output_type": "stream",
     "text": [
      "100%|█████████████████████████████████████████| 315/315 [02:52<00:00,  1.82it/s]\n"
     ]
    },
    {
     "name": "stdout",
     "output_type": "stream",
     "text": [
      "epoch 28 train >>> loss: 0.200, accuracy: 0.708\n"
     ]
    },
    {
     "name": "stderr",
     "output_type": "stream",
     "text": [
      "100%|█████████████████████████████████████████| 101/101 [00:41<00:00,  2.46it/s]\n"
     ]
    },
    {
     "name": "stdout",
     "output_type": "stream",
     "text": [
      "epoch 28 val >>> loss: 0.366, accuracy: 0.599\n",
      "Epoch 29/40\n",
      "__________\n"
     ]
    },
    {
     "name": "stderr",
     "output_type": "stream",
     "text": [
      "100%|█████████████████████████████████████████| 315/315 [02:52<00:00,  1.83it/s]\n"
     ]
    },
    {
     "name": "stdout",
     "output_type": "stream",
     "text": [
      "epoch 29 train >>> loss: 0.196, accuracy: 0.700\n"
     ]
    },
    {
     "name": "stderr",
     "output_type": "stream",
     "text": [
      "100%|█████████████████████████████████████████| 101/101 [00:41<00:00,  2.46it/s]\n"
     ]
    },
    {
     "name": "stdout",
     "output_type": "stream",
     "text": [
      "epoch 29 val >>> loss: 0.322, accuracy: 0.616\n",
      "Epoch 30/40\n",
      "__________\n"
     ]
    },
    {
     "name": "stderr",
     "output_type": "stream",
     "text": [
      "100%|█████████████████████████████████████████| 315/315 [02:53<00:00,  1.82it/s]\n"
     ]
    },
    {
     "name": "stdout",
     "output_type": "stream",
     "text": [
      "epoch 30 train >>> loss: 0.190, accuracy: 0.718\n"
     ]
    },
    {
     "name": "stderr",
     "output_type": "stream",
     "text": [
      "100%|█████████████████████████████████████████| 101/101 [00:41<00:00,  2.45it/s]\n"
     ]
    },
    {
     "name": "stdout",
     "output_type": "stream",
     "text": [
      "epoch 30 val >>> loss: 0.373, accuracy: 0.589\n",
      "Epoch 31/40\n",
      "__________\n"
     ]
    },
    {
     "name": "stderr",
     "output_type": "stream",
     "text": [
      "100%|█████████████████████████████████████████| 315/315 [02:52<00:00,  1.82it/s]\n"
     ]
    },
    {
     "name": "stdout",
     "output_type": "stream",
     "text": [
      "epoch 31 train >>> loss: 0.181, accuracy: 0.719\n"
     ]
    },
    {
     "name": "stderr",
     "output_type": "stream",
     "text": [
      "100%|█████████████████████████████████████████| 101/101 [00:41<00:00,  2.46it/s]\n"
     ]
    },
    {
     "name": "stdout",
     "output_type": "stream",
     "text": [
      "epoch 31 val >>> loss: 0.398, accuracy: 0.569\n",
      "Epoch 32/40\n",
      "__________\n"
     ]
    },
    {
     "name": "stderr",
     "output_type": "stream",
     "text": [
      "100%|█████████████████████████████████████████| 315/315 [02:53<00:00,  1.81it/s]\n"
     ]
    },
    {
     "name": "stdout",
     "output_type": "stream",
     "text": [
      "epoch 32 train >>> loss: 0.184, accuracy: 0.711\n"
     ]
    },
    {
     "name": "stderr",
     "output_type": "stream",
     "text": [
      "100%|█████████████████████████████████████████| 101/101 [00:41<00:00,  2.42it/s]\n"
     ]
    },
    {
     "name": "stdout",
     "output_type": "stream",
     "text": [
      "epoch 32 val >>> loss: 0.425, accuracy: 0.498\n",
      "Epoch 33/40\n",
      "__________\n"
     ]
    },
    {
     "name": "stderr",
     "output_type": "stream",
     "text": [
      "100%|█████████████████████████████████████████| 315/315 [02:52<00:00,  1.83it/s]\n"
     ]
    },
    {
     "name": "stdout",
     "output_type": "stream",
     "text": [
      "epoch 33 train >>> loss: 0.164, accuracy: 0.748\n"
     ]
    },
    {
     "name": "stderr",
     "output_type": "stream",
     "text": [
      "100%|█████████████████████████████████████████| 101/101 [00:41<00:00,  2.46it/s]\n"
     ]
    },
    {
     "name": "stdout",
     "output_type": "stream",
     "text": [
      "epoch 33 val >>> loss: 0.327, accuracy: 0.601\n",
      "Epoch 34/40\n",
      "__________\n"
     ]
    },
    {
     "name": "stderr",
     "output_type": "stream",
     "text": [
      "100%|█████████████████████████████████████████| 315/315 [02:52<00:00,  1.83it/s]\n"
     ]
    },
    {
     "name": "stdout",
     "output_type": "stream",
     "text": [
      "epoch 34 train >>> loss: 0.160, accuracy: 0.751\n"
     ]
    },
    {
     "name": "stderr",
     "output_type": "stream",
     "text": [
      "100%|█████████████████████████████████████████| 101/101 [00:41<00:00,  2.44it/s]\n"
     ]
    },
    {
     "name": "stdout",
     "output_type": "stream",
     "text": [
      "epoch 34 val >>> loss: 0.336, accuracy: 0.559\n",
      "Epoch 35/40\n",
      "__________\n"
     ]
    },
    {
     "name": "stderr",
     "output_type": "stream",
     "text": [
      "100%|█████████████████████████████████████████| 315/315 [02:54<00:00,  1.81it/s]\n"
     ]
    },
    {
     "name": "stdout",
     "output_type": "stream",
     "text": [
      "epoch 35 train >>> loss: 0.147, accuracy: 0.769\n"
     ]
    },
    {
     "name": "stderr",
     "output_type": "stream",
     "text": [
      "100%|█████████████████████████████████████████| 101/101 [00:42<00:00,  2.40it/s]\n"
     ]
    },
    {
     "name": "stdout",
     "output_type": "stream",
     "text": [
      "epoch 35 val >>> loss: 0.390, accuracy: 0.626\n",
      "Epoch 36/40\n",
      "__________\n"
     ]
    },
    {
     "name": "stderr",
     "output_type": "stream",
     "text": [
      "100%|█████████████████████████████████████████| 315/315 [02:54<00:00,  1.81it/s]\n"
     ]
    },
    {
     "name": "stdout",
     "output_type": "stream",
     "text": [
      "epoch 36 train >>> loss: 0.129, accuracy: 0.800\n"
     ]
    },
    {
     "name": "stderr",
     "output_type": "stream",
     "text": [
      "100%|█████████████████████████████████████████| 101/101 [00:41<00:00,  2.44it/s]\n"
     ]
    },
    {
     "name": "stdout",
     "output_type": "stream",
     "text": [
      "epoch 36 val >>> loss: 0.350, accuracy: 0.599\n",
      "Epoch 37/40\n",
      "__________\n"
     ]
    },
    {
     "name": "stderr",
     "output_type": "stream",
     "text": [
      "100%|█████████████████████████████████████████| 315/315 [02:53<00:00,  1.82it/s]\n"
     ]
    },
    {
     "name": "stdout",
     "output_type": "stream",
     "text": [
      "epoch 37 train >>> loss: 0.134, accuracy: 0.794\n"
     ]
    },
    {
     "name": "stderr",
     "output_type": "stream",
     "text": [
      "100%|█████████████████████████████████████████| 101/101 [00:41<00:00,  2.46it/s]\n"
     ]
    },
    {
     "name": "stdout",
     "output_type": "stream",
     "text": [
      "epoch 37 val >>> loss: 0.417, accuracy: 0.587\n",
      "Epoch 38/40\n",
      "__________\n"
     ]
    },
    {
     "name": "stderr",
     "output_type": "stream",
     "text": [
      "100%|█████████████████████████████████████████| 315/315 [02:55<00:00,  1.80it/s]\n"
     ]
    },
    {
     "name": "stdout",
     "output_type": "stream",
     "text": [
      "epoch 38 train >>> loss: 0.130, accuracy: 0.787\n"
     ]
    },
    {
     "name": "stderr",
     "output_type": "stream",
     "text": [
      "100%|█████████████████████████████████████████| 101/101 [00:42<00:00,  2.39it/s]\n"
     ]
    },
    {
     "name": "stdout",
     "output_type": "stream",
     "text": [
      "epoch 38 val >>> loss: 0.338, accuracy: 0.619\n",
      "Epoch 39/40\n",
      "__________\n"
     ]
    },
    {
     "name": "stderr",
     "output_type": "stream",
     "text": [
      "100%|█████████████████████████████████████████| 315/315 [02:52<00:00,  1.83it/s]\n"
     ]
    },
    {
     "name": "stdout",
     "output_type": "stream",
     "text": [
      "epoch 39 train >>> loss: 0.111, accuracy: 0.815\n"
     ]
    },
    {
     "name": "stderr",
     "output_type": "stream",
     "text": [
      "100%|█████████████████████████████████████████| 101/101 [00:41<00:00,  2.46it/s]\n"
     ]
    },
    {
     "name": "stdout",
     "output_type": "stream",
     "text": [
      "epoch 39 val >>> loss: 0.368, accuracy: 0.601\n",
      "Epoch 40/40\n",
      "__________\n"
     ]
    },
    {
     "name": "stderr",
     "output_type": "stream",
     "text": [
      "100%|█████████████████████████████████████████| 315/315 [02:51<00:00,  1.84it/s]\n"
     ]
    },
    {
     "name": "stdout",
     "output_type": "stream",
     "text": [
      "epoch 40 train >>> loss: 0.109, accuracy: 0.808\n"
     ]
    },
    {
     "name": "stderr",
     "output_type": "stream",
     "text": [
      "100%|█████████████████████████████████████████| 101/101 [00:41<00:00,  2.46it/s]"
     ]
    },
    {
     "name": "stdout",
     "output_type": "stream",
     "text": [
      "epoch 40 val >>> loss: 0.383, accuracy: 0.629\n"
     ]
    },
    {
     "name": "stderr",
     "output_type": "stream",
     "text": [
      "\n"
     ]
    }
   ],
   "source": [
    "# Using pretrained weights:\n",
    "model = resnet50(weights=ResNet50_Weights.IMAGENET1K_V1)\n",
    "\n",
    "# modifying output number of classes from 1000 to NUM_CLASSES\n",
    "model.fc = nn.Linear(2048, NUM_CLASSES)\n",
    "model = model.to(device)\n",
    "\n",
    "# defining criterion, optimizer\n",
    "criterion = nn.CrossEntropyLoss(weight=CLASS_WEIGHT).to(device)\n",
    "optimizer = torch.optim.Adam(model.parameters(), lr=LEARNING_RATE, weight_decay=WEIGHT_DECAY)\n",
    "\n",
    "# training the model\n",
    "model, train_val_df = train(\n",
    "    model, \n",
    "    dataloader_dict, \n",
    "    criterion, \n",
    "    optimizer, \n",
    "    device, \n",
    "    checkpoint_path='/Users/simpleai/Desktop/az_task/results/task2/resnet50_multiclass_classifier.pth', \n",
    "    train_val_info_path='/Users/simpleai/Desktop/az_task/results/task2/resnet50_multiclass_classifier_info.csv',\n",
    "    num_epochs=NUM_EPOCHS\n",
    "    )"
   ]
  },
  {
   "cell_type": "code",
   "execution_count": null,
   "id": "857c4c6f",
   "metadata": {},
   "outputs": [],
   "source": []
  },
  {
   "cell_type": "code",
   "execution_count": null,
   "id": "f4eba1bc",
   "metadata": {},
   "outputs": [],
   "source": []
  }
 ],
 "metadata": {
  "kernelspec": {
   "display_name": "Python 3 (ipykernel)",
   "language": "python",
   "name": "python3"
  },
  "language_info": {
   "codemirror_mode": {
    "name": "ipython",
    "version": 3
   },
   "file_extension": ".py",
   "mimetype": "text/x-python",
   "name": "python",
   "nbconvert_exporter": "python",
   "pygments_lexer": "ipython3",
   "version": "3.9.15"
  }
 },
 "nbformat": 4,
 "nbformat_minor": 5
}
